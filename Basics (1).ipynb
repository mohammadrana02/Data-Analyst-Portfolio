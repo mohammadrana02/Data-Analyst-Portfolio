{
 "cells": [
  {
   "cell_type": "markdown",
   "metadata": {},
   "source": [
    "# Finding the Best Markets to Advertise In"
   ]
  },
  {
   "cell_type": "markdown",
   "metadata": {},
   "source": [
    "Let's assume that we're working for an an e-learning company that offers courses on programming. Most of our courses are on web and mobile development, but we also cover many other domains, like data science, game development, etc. We want to promote our product and we'd like to invest some money in advertisement. Our goal in this project is to find out the two best markets to advertise our product in.\n",
    "\n",
    "We will analyse the freeCodeCamp's 2017 New Coder Survey to find the best markets to advertise in."
   ]
  },
  {
   "cell_type": "code",
   "execution_count": 21,
   "metadata": {
    "collapsed": false
   },
   "outputs": [
    {
     "name": "stdout",
     "output_type": "stream",
     "text": [
      "(18175, 136)\n"
     ]
    },
    {
     "data": {
      "text/html": [
       "<div>\n",
       "<style scoped>\n",
       "    .dataframe tbody tr th:only-of-type {\n",
       "        vertical-align: middle;\n",
       "    }\n",
       "\n",
       "    .dataframe tbody tr th {\n",
       "        vertical-align: top;\n",
       "    }\n",
       "\n",
       "    .dataframe thead th {\n",
       "        text-align: right;\n",
       "    }\n",
       "</style>\n",
       "<table border=\"1\" class=\"dataframe\">\n",
       "  <thead>\n",
       "    <tr style=\"text-align: right;\">\n",
       "      <th></th>\n",
       "      <th>Age</th>\n",
       "      <th>AttendedBootcamp</th>\n",
       "      <th>BootcampFinish</th>\n",
       "      <th>BootcampLoanYesNo</th>\n",
       "      <th>BootcampName</th>\n",
       "      <th>BootcampRecommend</th>\n",
       "      <th>ChildrenNumber</th>\n",
       "      <th>CityPopulation</th>\n",
       "      <th>CodeEventConferences</th>\n",
       "      <th>CodeEventDjangoGirls</th>\n",
       "      <th>...</th>\n",
       "      <th>YouTubeFCC</th>\n",
       "      <th>YouTubeFunFunFunction</th>\n",
       "      <th>YouTubeGoogleDev</th>\n",
       "      <th>YouTubeLearnCode</th>\n",
       "      <th>YouTubeLevelUpTuts</th>\n",
       "      <th>YouTubeMIT</th>\n",
       "      <th>YouTubeMozillaHacks</th>\n",
       "      <th>YouTubeOther</th>\n",
       "      <th>YouTubeSimplilearn</th>\n",
       "      <th>YouTubeTheNewBoston</th>\n",
       "    </tr>\n",
       "  </thead>\n",
       "  <tbody>\n",
       "    <tr>\n",
       "      <th>0</th>\n",
       "      <td>27.0</td>\n",
       "      <td>0.0</td>\n",
       "      <td>NaN</td>\n",
       "      <td>NaN</td>\n",
       "      <td>NaN</td>\n",
       "      <td>NaN</td>\n",
       "      <td>NaN</td>\n",
       "      <td>more than 1 million</td>\n",
       "      <td>NaN</td>\n",
       "      <td>NaN</td>\n",
       "      <td>...</td>\n",
       "      <td>NaN</td>\n",
       "      <td>NaN</td>\n",
       "      <td>NaN</td>\n",
       "      <td>NaN</td>\n",
       "      <td>NaN</td>\n",
       "      <td>NaN</td>\n",
       "      <td>NaN</td>\n",
       "      <td>NaN</td>\n",
       "      <td>NaN</td>\n",
       "      <td>NaN</td>\n",
       "    </tr>\n",
       "    <tr>\n",
       "      <th>1</th>\n",
       "      <td>34.0</td>\n",
       "      <td>0.0</td>\n",
       "      <td>NaN</td>\n",
       "      <td>NaN</td>\n",
       "      <td>NaN</td>\n",
       "      <td>NaN</td>\n",
       "      <td>NaN</td>\n",
       "      <td>less than 100,000</td>\n",
       "      <td>NaN</td>\n",
       "      <td>NaN</td>\n",
       "      <td>...</td>\n",
       "      <td>1.0</td>\n",
       "      <td>NaN</td>\n",
       "      <td>NaN</td>\n",
       "      <td>NaN</td>\n",
       "      <td>NaN</td>\n",
       "      <td>NaN</td>\n",
       "      <td>NaN</td>\n",
       "      <td>NaN</td>\n",
       "      <td>NaN</td>\n",
       "      <td>NaN</td>\n",
       "    </tr>\n",
       "    <tr>\n",
       "      <th>2</th>\n",
       "      <td>21.0</td>\n",
       "      <td>0.0</td>\n",
       "      <td>NaN</td>\n",
       "      <td>NaN</td>\n",
       "      <td>NaN</td>\n",
       "      <td>NaN</td>\n",
       "      <td>NaN</td>\n",
       "      <td>more than 1 million</td>\n",
       "      <td>NaN</td>\n",
       "      <td>NaN</td>\n",
       "      <td>...</td>\n",
       "      <td>NaN</td>\n",
       "      <td>NaN</td>\n",
       "      <td>NaN</td>\n",
       "      <td>1.0</td>\n",
       "      <td>1.0</td>\n",
       "      <td>NaN</td>\n",
       "      <td>NaN</td>\n",
       "      <td>NaN</td>\n",
       "      <td>NaN</td>\n",
       "      <td>NaN</td>\n",
       "    </tr>\n",
       "    <tr>\n",
       "      <th>3</th>\n",
       "      <td>26.0</td>\n",
       "      <td>0.0</td>\n",
       "      <td>NaN</td>\n",
       "      <td>NaN</td>\n",
       "      <td>NaN</td>\n",
       "      <td>NaN</td>\n",
       "      <td>NaN</td>\n",
       "      <td>between 100,000 and 1 million</td>\n",
       "      <td>NaN</td>\n",
       "      <td>NaN</td>\n",
       "      <td>...</td>\n",
       "      <td>1.0</td>\n",
       "      <td>1.0</td>\n",
       "      <td>NaN</td>\n",
       "      <td>NaN</td>\n",
       "      <td>1.0</td>\n",
       "      <td>NaN</td>\n",
       "      <td>NaN</td>\n",
       "      <td>NaN</td>\n",
       "      <td>NaN</td>\n",
       "      <td>NaN</td>\n",
       "    </tr>\n",
       "    <tr>\n",
       "      <th>4</th>\n",
       "      <td>20.0</td>\n",
       "      <td>0.0</td>\n",
       "      <td>NaN</td>\n",
       "      <td>NaN</td>\n",
       "      <td>NaN</td>\n",
       "      <td>NaN</td>\n",
       "      <td>NaN</td>\n",
       "      <td>between 100,000 and 1 million</td>\n",
       "      <td>NaN</td>\n",
       "      <td>NaN</td>\n",
       "      <td>...</td>\n",
       "      <td>NaN</td>\n",
       "      <td>NaN</td>\n",
       "      <td>NaN</td>\n",
       "      <td>NaN</td>\n",
       "      <td>NaN</td>\n",
       "      <td>NaN</td>\n",
       "      <td>NaN</td>\n",
       "      <td>NaN</td>\n",
       "      <td>NaN</td>\n",
       "      <td>NaN</td>\n",
       "    </tr>\n",
       "  </tbody>\n",
       "</table>\n",
       "<p>5 rows × 136 columns</p>\n",
       "</div>"
      ],
      "text/plain": [
       "    Age  AttendedBootcamp  BootcampFinish  BootcampLoanYesNo BootcampName  \\\n",
       "0  27.0               0.0             NaN                NaN          NaN   \n",
       "1  34.0               0.0             NaN                NaN          NaN   \n",
       "2  21.0               0.0             NaN                NaN          NaN   \n",
       "3  26.0               0.0             NaN                NaN          NaN   \n",
       "4  20.0               0.0             NaN                NaN          NaN   \n",
       "\n",
       "   BootcampRecommend  ChildrenNumber                 CityPopulation  \\\n",
       "0                NaN             NaN            more than 1 million   \n",
       "1                NaN             NaN              less than 100,000   \n",
       "2                NaN             NaN            more than 1 million   \n",
       "3                NaN             NaN  between 100,000 and 1 million   \n",
       "4                NaN             NaN  between 100,000 and 1 million   \n",
       "\n",
       "   CodeEventConferences  CodeEventDjangoGirls         ...           \\\n",
       "0                   NaN                   NaN         ...            \n",
       "1                   NaN                   NaN         ...            \n",
       "2                   NaN                   NaN         ...            \n",
       "3                   NaN                   NaN         ...            \n",
       "4                   NaN                   NaN         ...            \n",
       "\n",
       "   YouTubeFCC  YouTubeFunFunFunction  YouTubeGoogleDev  YouTubeLearnCode  \\\n",
       "0         NaN                    NaN               NaN               NaN   \n",
       "1         1.0                    NaN               NaN               NaN   \n",
       "2         NaN                    NaN               NaN               1.0   \n",
       "3         1.0                    1.0               NaN               NaN   \n",
       "4         NaN                    NaN               NaN               NaN   \n",
       "\n",
       "   YouTubeLevelUpTuts  YouTubeMIT  YouTubeMozillaHacks YouTubeOther  \\\n",
       "0                 NaN         NaN                  NaN          NaN   \n",
       "1                 NaN         NaN                  NaN          NaN   \n",
       "2                 1.0         NaN                  NaN          NaN   \n",
       "3                 1.0         NaN                  NaN          NaN   \n",
       "4                 NaN         NaN                  NaN          NaN   \n",
       "\n",
       "   YouTubeSimplilearn  YouTubeTheNewBoston  \n",
       "0                 NaN                  NaN  \n",
       "1                 NaN                  NaN  \n",
       "2                 NaN                  NaN  \n",
       "3                 NaN                  NaN  \n",
       "4                 NaN                  NaN  \n",
       "\n",
       "[5 rows x 136 columns]"
      ]
     },
     "execution_count": 21,
     "metadata": {},
     "output_type": "execute_result"
    }
   ],
   "source": [
    "import pandas as pd\n",
    "\n",
    "# Load the dataset\n",
    "file_path = '2017-fCC-New-Coders-Survey-Data.csv'\n",
    "data = pd.read_csv(file_path, low_memory = 0)\n",
    "print(data.shape)\n",
    "data.head()"
   ]
  },
  {
   "cell_type": "markdown",
   "metadata": {},
   "source": [
    "Each column appears to describe different facets of the survey participants' backgrounds, coding experience, learning methods, job preferences, and financial situations. This dataset seems particularly useful for analyzing trends and patterns among new coders, especially in terms of their learning preferences and career aspirations. "
   ]
  },
  {
   "cell_type": "markdown",
   "metadata": {},
   "source": [
    "# Checking for Sample Representativity"
   ]
  },
  {
   "cell_type": "code",
   "execution_count": 22,
   "metadata": {
    "collapsed": false
   },
   "outputs": [
    {
     "data": {
      "text/plain": [
       "Full-Stack Web Developer    18.575221\n",
       "Front-End Web Developer     15.632743\n",
       "Back-End Web Developer      12.265487\n",
       "Mobile Developer            10.194690\n",
       "Data Scientist               7.269912\n",
       "Game Developer               7.203540\n",
       "User Experience Designer     6.500000\n",
       "Information Security         5.867257\n",
       "Data Engineer                5.522124\n",
       "DevOps / SysAdmin            4.101770\n",
       "dtype: float64"
      ]
     },
     "execution_count": 22,
     "metadata": {},
     "output_type": "execute_result"
    }
   ],
   "source": [
    "# Generating a frequency distribution table for the 'JobRoleInterest' column\n",
    "job_interests = data['JobRoleInterest'].dropna()\n",
    "split_interests = job_interests.str.split(',')\n",
    "\n",
    "# Flattening the list of lists into a single list of interests\n",
    "all_interests = []\n",
    "for interests in split_interests:\n",
    "    for interest in interests:\n",
    "        all_interests.append(interest.strip())\n",
    "\n",
    "# Converting to a Series to use value_counts method\n",
    "interest_series = pd.Series(all_interests)\n",
    "frequency_table = interest_series.value_counts(normalize=True) * 100\n",
    "\n",
    "frequency_table.head(10)  # Displaying the top 10 interests for brevity"
   ]
  },
  {
   "cell_type": "markdown",
   "metadata": {},
   "source": [
    "Full-stack, front-end, and back-end web development roles are the most popular, cumulatively accounting for over 46% of interests. This indicates a strong trend towards web development among new coders.\n",
    "\n",
    "Mobile development and data science (including data engineering) also feature prominently, highlighting interest in these growing fields."
   ]
  },
  {
   "cell_type": "code",
   "execution_count": 28,
   "metadata": {
    "collapsed": false
   },
   "outputs": [
    {
     "data": {
      "image/png": "[encoded data removed]",
      "text/plain": [
       "<matplotlib.figure.Figure at 0x7f830bb7b400>"
      ]
     },
     "metadata": {},
     "output_type": "display_data"
    }
   ],
   "source": [
    "# Correcting the provided code for the bar plot\n",
    "\n",
    "plt.figure(figsize=(12, 8))\n",
    "ax = top_10_interests.plot(kind='bar', color='steelblue', edgecolor='black')\n",
    "\n",
    "# Adding titles and labels\n",
    "plt.title('Top 10 Job Role Interests Among New Coders', fontsize=16, fontweight='bold')\n",
    "plt.ylabel('Percentage of Respondents', fontsize=14)\n",
    "plt.xlabel('Job Roles', fontsize=14)\n",
    "plt.xticks(rotation=45, ha='right', fontsize=12)\n",
    "plt.yticks(fontsize=12)\n",
    "\n",
    "plt.tight_layout()\n",
    "plt.show()"
   ]
  },
  {
   "cell_type": "markdown",
   "metadata": {},
   "source": [
    "Here is a bar plot visualizing the top 10 job role interests among new coders, with percentages indicating the proportion of respondents interested in each role. This visualization clearly highlights the popularity of various roles, with web development roles dominating the chart."
   ]
  },
  {
   "cell_type": "markdown",
   "metadata": {},
   "source": [
    "# New Coders - Locations and Densities"
   ]
  },
  {
   "cell_type": "markdown",
   "metadata": {},
   "source": [
    "Now that we found the the sample has the right people for our purpose, we can begin analyzing. First we will start by finding out where these new coders are location using the CountryLive variable.\n",
    "\n",
    "First we will drop all the rows where participants didn't know what role they are interested in."
   ]
  },
  {
   "cell_type": "code",
   "execution_count": 29,
   "metadata": {
    "collapsed": false
   },
   "outputs": [
    {
     "data": {
      "text/plain": [
       "6992"
      ]
     },
     "execution_count": 29,
     "metadata": {},
     "output_type": "execute_result"
    }
   ],
   "source": [
    "# Dropping rows where the 'JobRoleInterest' is null (participants don't know their role interest)\n",
    "data_cleaned = data.dropna(subset=['JobRoleInterest'])\n",
    "\n",
    "# Checking the new shape of the dataset after dropping the rows\n",
    "new_num_rows, _ = data_cleaned.shape\n",
    "new_num_rows"
   ]
  },
  {
   "cell_type": "markdown",
   "metadata": {},
   "source": [
    "Now we will generate a frequency table for the CountryLive variable."
   ]
  },
  {
   "cell_type": "code",
   "execution_count": 31,
   "metadata": {
    "collapsed": false
   },
   "outputs": [
    {
     "data": {
      "text/plain": [
       "(United States of America    3125\n",
       " India                        528\n",
       " United Kingdom               315\n",
       " Canada                       260\n",
       " Poland                       131\n",
       " Name: CountryLive, dtype: int64, United States of America    45.700497\n",
       " India                        7.721556\n",
       " United Kingdom               4.606610\n",
       " Canada                       3.802281\n",
       " Poland                       1.915765\n",
       " Name: CountryLive, dtype: float64)"
      ]
     },
     "execution_count": 31,
     "metadata": {},
     "output_type": "execute_result"
    }
   ],
   "source": [
    "# Generating a frequency table for the 'CountryLive' variable in the cleaned dataset\n",
    "country_live_freq_table = data_cleaned['CountryLive'].value_counts()\n",
    "country_live_freq_table_relative = data_cleaned['CountryLive'].value_counts(normalize=True) * 100\n",
    "\n",
    "# Displaying the top 5 countries in both absolute and relative terms for analysis\n",
    "top_5_countries_absolute = country_live_freq_table.head(5)\n",
    "top_5_countries_relative = country_live_freq_table_relative.head(5)\n",
    "\n",
    "top_5_countries_absolute, top_5_countries_relative"
   ]
  },
  {
   "cell_type": "markdown",
   "metadata": {},
   "source": [
    "The United States stands out significantly, with nearly 46% of participants residing there, making it a primary market for advertising.\n",
    "\n",
    "India, with 7.72%, is the second-largest market. This is a considerable percentage, especially considering the large population and growing tech industry in India."
   ]
  },
  {
   "cell_type": "markdown",
   "metadata": {},
   "source": [
    "# Spending Money for Learning"
   ]
  },
  {
   "cell_type": "markdown",
   "metadata": {},
   "source": [
    "We found useful information about the location of new coders but we also need to go more in depth. We can continue by finding out how much money new coders are actually willing to spend on learning."
   ]
  },
  {
   "cell_type": "code",
   "execution_count": 33,
   "metadata": {
    "collapsed": false
   },
   "outputs": [
    {
     "name": "stderr",
     "output_type": "stream",
     "text": [
      "/dataquest/system/env/python3/lib/python3.4/site-packages/pandas/core/generic.py:4619: SettingWithCopyWarning:\n",
      "\n",
      "\n",
      "A value is trying to be set on a copy of a slice from a DataFrame\n",
      "\n",
      "See the caveats in the documentation: http://pandas.pydata.org/pandas-docs/stable/indexing.html#indexing-view-versus-copy\n",
      "\n",
      "/dataquest/system/env/python3/lib/python3.4/site-packages/ipykernel/__main__.py:5: SettingWithCopyWarning:\n",
      "\n",
      "\n",
      "A value is trying to be set on a copy of a slice from a DataFrame.\n",
      "Try using .loc[row_indexer,col_indexer] = value instead\n",
      "\n",
      "See the caveats in the documentation: http://pandas.pydata.org/pandas-docs/stable/indexing.html#indexing-view-versus-copy\n",
      "\n"
     ]
    },
    {
     "data": {
      "text/plain": [
       "CountryLive\n",
       "Canada                      113.510961\n",
       "India                       135.100982\n",
       "United Kingdom               45.534443\n",
       "United States of America    227.997996\n",
       "Name: MoneyPerMonth, dtype: float64"
      ]
     },
     "execution_count": 33,
     "metadata": {},
     "output_type": "execute_result"
    }
   ],
   "source": [
    "# Replacing 0 months with 1 in 'MonthsProgramming' to avoid division by zero\n",
    "data_cleaned['MonthsProgramming'].replace(0, 1, inplace=True)\n",
    "\n",
    "# Calculating the amount of money a student has spent per month\n",
    "data_cleaned['MoneyPerMonth'] = data_cleaned['MoneyForLearning'] / data_cleaned['MonthsProgramming']\n",
    "\n",
    "# Counting null values in the new 'MoneyPerMonth' column\n",
    "null_money_per_month = data_cleaned['MoneyPerMonth'].isnull().sum()\n",
    "\n",
    "# Keeping only the rows without null values in 'MoneyPerMonth' and 'CountryLive'\n",
    "data_filtered = data_cleaned.dropna(subset=['MoneyPerMonth', 'CountryLive'])\n",
    "\n",
    "# Grouping the data by 'CountryLive' and calculating the mean money spent per month\n",
    "countries_of_interest = ['United States of America', 'India', 'United Kingdom', 'Canada']\n",
    "average_spending = data_filtered[data_filtered['CountryLive'].isin(countries_of_interest)]\n",
    "average_spending_grouped = average_spending.groupby('CountryLive')['MoneyPerMonth'].mean()\n",
    "\n",
    "average_spending_grouped"
   ]
  },
  {
   "cell_type": "markdown",
   "metadata": {},
   "source": [
    "Students in the US appear to spend the most per month on learning, which could be influenced by higher course fees or a greater propensity to enroll in paid programs.\n",
    "\n",
    "The average spending in India is notably higher than in the UK and Canada. This could be due to a variety of factors, such as the inclusion of expensive bootcamp fees.\n",
    "\n",
    "The UK and Canada show relatively lower average spending. This might reflect either a difference in the cost of learning resources or a tendency to use more free or low-cost learning materials.\n",
    "Points to Consider:\n",
    "\n",
    "The higher spending in India seems unusual given the general economic differences compared to the US, UK, and Canada. It's possible that a few big spenders are skewing the average upwards."
   ]
  },
  {
   "cell_type": "markdown",
   "metadata": {},
   "source": [
    "# Dealing with Extreme Outliers"
   ]
  },
  {
   "cell_type": "code",
   "execution_count": 34,
   "metadata": {
    "collapsed": false
   },
   "outputs": [
    {
     "name": "stderr",
     "output_type": "stream",
     "text": [
      "/dataquest/system/env/python3/lib/python3.4/site-packages/seaborn/categorical.py:454: FutureWarning:\n",
      "\n",
      "remove_na is deprecated and is a private function. Do not use.\n",
      "\n"
     ]
    },
    {
     "data": {
      "image/png": "[encoded data removed]",
      "text/plain": [
       "<matplotlib.figure.Figure at 0x7f830bd08940>"
      ]
     },
     "metadata": {},
     "output_type": "display_data"
    }
   ],
   "source": [
    "import seaborn as sns\n",
    "\n",
    "# Filtering data for the countries of interest\n",
    "countries_data = average_spending[average_spending['CountryLive'].isin(countries_of_interest)]\n",
    "\n",
    "# Creating box plots\n",
    "plt.figure(figsize=(12, 7))\n",
    "sns.boxplot(x='CountryLive', y='MoneyPerMonth', data=countries_data)\n",
    "plt.title('Money Spent Per Month Per Country\\n(United States, India, United Kingdom, Canada)', fontsize=16)\n",
    "plt.ylabel('Money per month (USD)', fontsize=14)\n",
    "plt.xlabel('Country', fontsize=14)\n",
    "plt.xticks(fontsize=12)\n",
    "plt.yticks(fontsize=12)\n",
    "plt.show()"
   ]
  },
  {
   "cell_type": "markdown",
   "metadata": {},
   "source": [
    "There's a wide range of spending, with several extreme outliers indicating that some participants spend significantly more per month.\n",
    "\n",
    "Similar to the US, India also shows a wide range and some extreme outliers.\n",
    "\n",
    "The UK shows a more compact distribution with a few outliers.\n",
    "Canada: Canada's distribution is somewhat similar to the UK, with a few outliers.\n",
    "\n",
    "These distributions suggest varying spending behaviors across these countries, with notable outliers in the US and India potentially skewing the average spending figures. "
   ]
  },
  {
   "cell_type": "code",
   "execution_count": 36,
   "metadata": {
    "collapsed": false
   },
   "outputs": [
    {
     "data": {
      "text/plain": [
       "(CountryLive\n",
       " Canada                      75.550481\n",
       " India                       57.256604\n",
       " United Kingdom              45.534443\n",
       " United States of America    82.847724\n",
       " Name: MoneyPerMonth, dtype: float64, Empty DataFrame\n",
       " Columns: [AttendedBootcamp, MoneyPerMonth, MonthsProgramming]\n",
       " Index: [])"
      ]
     },
     "execution_count": 36,
     "metadata": {},
     "output_type": "execute_result"
    }
   ],
   "source": [
    "# Isolating the countries of interest for further outlier analysis\n",
    "countries_data_further_analysis = average_spending[average_spending['CountryLive'].isin(countries_of_interest)]\n",
    "\n",
    "# Removing extreme outliers\n",
    "# Setting a higher threshold for considering an observation as an outlier\n",
    "# For this, let's use a threshold of $2000 per month\n",
    "\n",
    "extreme_outlier_threshold = 2000\n",
    "countries_data_no_extreme = countries_data_further_analysis[countries_data_further_analysis['MoneyPerMonth'] < extreme_outlier_threshold]\n",
    "\n",
    "# Recomputing the mean values after removing extreme outliers\n",
    "mean_spending_no_extreme = countries_data_no_extreme.groupby('CountryLive')['MoneyPerMonth'].mean()\n",
    "\n",
    "# Checking for specific extreme cases in India\n",
    "india_outliers = countries_data_no_extreme[(countries_data_no_extreme['CountryLive'] == 'India') & \n",
    "                                           (countries_data_no_extreme['MoneyPerMonth'] >= 2000)]\n",
    "\n",
    "# Investigating if these outliers attended any bootcamp\n",
    "india_outliers_bootcamp = india_outliers[['AttendedBootcamp', 'MoneyPerMonth', 'MonthsProgramming']]\n",
    "\n",
    "mean_spending_no_extreme, india_outliers_bootcamp"
   ]
  },
  {
   "cell_type": "markdown",
   "metadata": {},
   "source": [
    "After eliminating outliers and recomputing the mean values, the average monthly spending on learning in the US, India, the UK, and Canada is significantly different.\n",
    "\n",
    "These adjusted figures are much lower than the previous estimates, indicating that the original averages were heavily influenced by outliers. This more realistic view of spending patterns suggests that while the US market still leads in terms of spending, the actual amount spent by most students is considerably lower than initially calculated."
   ]
  },
  {
   "cell_type": "markdown",
   "metadata": {},
   "source": [
    "# Choosing the Two Best Markets"
   ]
  },
  {
   "cell_type": "markdown",
   "metadata": {},
   "source": [
    "Now that we have out results, it looks like the United Stated and Canada are the best markets to advertise in. Considering we sell subscriptions for 59 per month, these two markets are a great fit since both markets spend over 59 per month on average and they are both significantly higher than the alternatives."
   ]
  },
  {
   "cell_type": "markdown",
   "metadata": {},
   "source": [
    "# Conclusion"
   ]
  },
  {
   "cell_type": "markdown",
   "metadata": {},
   "source": [
    "In this project, we analyzed a survey of coders to identify the best markets for advertising. We determined that the United States and Canada are the most promising markets, as they not only show a high level of interest in coding but also demonstrate a willingness to spend a significant amount on educational products related to coding."
   ]
  }
 ],
 "metadata": {
  "kernelspec": {
   "display_name": "Python 3",
   "language": "python",
   "name": "python3"
  },
  "language_info": {
   "codemirror_mode": {
    "name": "ipython",
    "version": 3
   },
   "file_extension": ".py",
   "mimetype": "text/x-python",
   "name": "python",
   "nbconvert_exporter": "python",
   "pygments_lexer": "ipython3",
   "version": "3.4.3"
  }
 },
 "nbformat": 4,
 "nbformat_minor": 2
}
